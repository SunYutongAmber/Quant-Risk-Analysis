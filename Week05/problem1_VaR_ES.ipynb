{
 "cells": [
  {
   "cell_type": "code",
   "execution_count": 8,
   "metadata": {},
   "outputs": [],
   "source": [
    "# import the data\n",
    "import pandas as pd\n",
    "import numpy as np\n",
    "from scipy.stats import t\n",
    "from scipy.optimize import minimize\n",
    "import matplotlib.pyplot as plt\n",
    "from scipy.stats import norm, t\n",
    "data = pd.read_csv(\"problem1.csv\")"
   ]
  },
  {
   "cell_type": "code",
   "execution_count": 9,
   "metadata": {},
   "outputs": [
    {
     "name": "stdout",
     "output_type": "stream",
     "text": [
      "0.08094063271228479\n",
      "0.09579533219019234\n"
     ]
    },
    {
     "name": "stderr",
     "output_type": "stream",
     "text": [
      "/opt/anaconda3/lib/python3.9/site-packages/numpy/core/fromnumeric.py:3438: FutureWarning: In a future version, DataFrame.mean(axis=None) will return a scalar mean over the entire DataFrame. To retain the old behavior, use 'frame.mean(axis=0)' or just 'frame.mean()'\n",
      "  return mean(axis=axis, dtype=dtype, out=out, **kwargs)\n"
     ]
    }
   ],
   "source": [
    "#fit normal distribution\n",
    "mean = np.mean(data)\n",
    "variance = np.std(data)\n",
    "normalized_data = np.random.normal(mean, variance, 500)\n",
    "normalized_data\n",
    "\n",
    "#generate the Var and Expected Shortfalls\n",
    "def VaR_ES(x, alpha=0.05):\n",
    "    xs = np.sort(x)\n",
    "    n = int(alpha * len(xs))\n",
    "    iup = int(np.ceil(n))\n",
    "    idn = int(np.floor(n))\n",
    "    VaR = (xs[iup] + xs[idn]) / 2\n",
    "    ES = np.mean(xs[:idn+1])\n",
    "    return -VaR, -ES\n",
    "\n",
    "VaR1 = VaR_ES(normalized_data, alpha=0.05)[0]\n",
    "ES1 =  VaR_ES(normalized_data, alpha=0.05)[1]\n",
    "print(VaR1)\n",
    "print(ES1)"
   ]
  },
  {
   "cell_type": "code",
   "execution_count": 10,
   "metadata": {},
   "outputs": [
    {
     "name": "stdout",
     "output_type": "stream",
     "text": [
      "0.07486002145192866\n",
      "0.11072230968625063\n"
     ]
    },
    {
     "name": "stderr",
     "output_type": "stream",
     "text": [
      "/opt/anaconda3/lib/python3.9/site-packages/scipy/optimize/_minimize.py:496: VisibleDeprecationWarning: Creating an ndarray from ragged nested sequences (which is a list-or-tuple of lists-or-tuples-or ndarrays with different lengths or shapes) is deprecated. If you meant to do this, you must specify 'dtype=object' when creating the ndarray.\n",
      "  x0 = np.asarray(x0)\n"
     ]
    }
   ],
   "source": [
    "# Fit the data into T-distribution\n",
    "def t_log_likelihood(params, data):\n",
    "    nu, loc, scale = params\n",
    "    log_likelihood = np.sum(t.logpdf(data, nu, loc, scale))\n",
    "    return -log_likelihood\n",
    "def fit_t_distribution(data):\n",
    "    initial_guess = [3.0, np.mean(data), np.std(data)]  # Initial guess for parameters: degrees of freedom, location, scale\n",
    "    result = minimize(t_log_likelihood, initial_guess, args=(data), method='Nelder-Mead')\n",
    "    nu, loc, scale = result.x\n",
    "    return nu, loc, scale\n",
    "degrees_of_freedom, location, scale = fit_t_distribution(data)\n",
    "num_samples = 500\n",
    "T_data = t.rvs(degrees_of_freedom, loc=location, scale=scale, size=num_samples)\n",
    "\n",
    "#generate the Var and Expected Shortfalls\n",
    "def VaR_ES(x, alpha=0.05):\n",
    "    xs = np.sort(x)\n",
    "    n = int(alpha * len(xs))\n",
    "    iup = int(np.ceil(n))\n",
    "    idn = int(np.floor(n))\n",
    "    VaR = (xs[iup] + xs[idn]) / 2\n",
    "    ES = np.mean(xs[:idn+1])\n",
    "    return -VaR, -ES\n",
    "\n",
    "VaR2 = VaR_ES(T_data, alpha=0.05)[0]\n",
    "ES2 =  VaR_ES(T_data, alpha=0.05)[1]\n",
    "print(VaR2)\n",
    "print(ES2)"
   ]
  },
  {
   "cell_type": "code",
   "execution_count": 22,
   "metadata": {},
   "outputs": [
    {
     "data": {
      "image/png": "[encoded data removed]",
      "text/plain": [
       "<Figure size 432x288 with 1 Axes>"
      ]
     },
     "metadata": {
      "needs_background": "light"
     },
     "output_type": "display_data"
    }
   ],
   "source": [
    "import numpy as np\n",
    "import matplotlib.pyplot as plt\n",
    "from scipy.stats import norm, t\n",
    "\n",
    "# Generate some example data\n",
    "normal_data = normalized_data\n",
    "t_data = T_data\n",
    "\n",
    "# Create a range of x values for plotting\n",
    "#x = np.linspace(-5, 5, 400)\n",
    "\n",
    "# Compute PDF values for the normal distribution\n",
    "pdf_normal = norm.pdf(x, 0, 1)\n",
    "\n",
    "# Compute PDF values for the t-distribution (using a df of 5 for this example)\n",
    "pdf_t = t.pdf(x, 5)\n",
    "\n",
    "# Plot the PDFs with thinner lines (linewidth=1.0)\n",
    "#plt.plot(x, pdf_normal, label='Normal Distribution', linewidth=1.0)\n",
    "#plt.plot(x, pdf_t, label='t-Distribution (df=5)', linewidth=1.0)\n",
    "plt.hist(normal_data, bins=30, density=True, alpha=0.5, label='Normal Data')\n",
    "plt.hist(t_data, bins=30, density=True, alpha=0.5, label='t-Distributed Data')\n",
    "\n",
    "# Add vertical lines with a thinner line (linewidth=0.8)\n",
    "vertical_lines_x = [-VaR1, -VaR2, -ES1, -ES2]\n",
    "\n",
    "plt.axvline(x=vertical_lines_x[0], color='r', linewidth=0.8, label=f'VaR+normal')\n",
    "plt.axvline(x=vertical_lines_x[1], color='b', linewidth=0.8, label=f'VaR_t')\n",
    "plt.axvline(x=vertical_lines_x[2], color='y', linewidth=0.8, label=f'ES_normal')\n",
    "plt.axvline(x=vertical_lines_x[3], color='green', linewidth=0.8, label=f'ES_t')\n",
    "\n",
    "plt.xlabel('Value')\n",
    "plt.ylabel('Density')\n",
    "plt.title('PDF of Normal and t-Distributions')\n",
    "plt.legend()\n",
    "plt.show()\n"
   ]
  }
 ],
 "metadata": {
  "kernelspec": {
   "display_name": "base",
   "language": "python",
   "name": "python3"
  },
  "language_info": {
   "codemirror_mode": {
    "name": "ipython",
    "version": 3
   },
   "file_extension": ".py",
   "mimetype": "text/x-python",
   "name": "python",
   "nbconvert_exporter": "python",
   "pygments_lexer": "ipython3",
   "version": "3.9.12"
  },
  "orig_nbformat": 4
 },
 "nbformat": 4,
 "nbformat_minor": 2
}
