{
 "cells": [
  {
   "cell_type": "markdown",
   "metadata": {},
   "source": [
    "# Problem 1.2"
   ]
  },
  {
   "cell_type": "code",
   "execution_count": 38,
   "metadata": {},
   "outputs": [],
   "source": [
    "import numpy as np\n",
    "import math\n",
    "\n",
    "def generate_prices(initial_price, volatility, num_periods, num_simulations, method=\"Classical Brownian Motion\"):\n",
    "    prices = np.zeros((num_simulations, num_periods))\n",
    "    \n",
    "    for i in range(num_simulations):\n",
    "        prices[i, 0] = initial_price\n",
    "        \n",
    "        if method.upper() == \"CLASSICAL BROWNIAN MOTION\":\n",
    "            returns = np.random.normal(0, volatility, size=num_periods)\n",
    "            for j in range(1, num_periods):\n",
    "                prices[i, j] = prices[i, j-1] + returns[j]\n",
    "        elif method.upper() == \"ARITHMETIC RETURN SYSTEM\":\n",
    "            returns = np.random.normal(0, volatility, size=num_periods)\n",
    "            for j in range(1, num_periods):\n",
    "                prices[i, j] = prices[i, j-1] * (returns[j] + 1)\n",
    "        else:\n",
    "            returns = np.random.normal(0, volatility, size=num_periods)\n",
    "            for j in range(1, num_periods):\n",
    "                prices[i, j] = prices[i, j-1] * math.exp(returns[j])\n",
    "    \n",
    "    return prices\n",
    "\n",
    "def analyze_prices(prices, method):\n",
    "    mean_price = np.mean(prices, axis=0)\n",
    "    std_dev_price = np.std(prices, axis=0)\n",
    "    \n",
    "    print(\"Mean of \" + method + \" is\", f\"{np.mean(mean_price):.3f}\")\n",
    "    print(\"Standard deviation of \" + method + \" is\", f\"{np.mean(std_dev_price):.3f}\")\n",
    "\n"
   ]
  },
  {
   "cell_type": "markdown",
   "metadata": {},
   "source": [
    "## Experimental Valus"
   ]
  },
  {
   "cell_type": "code",
   "execution_count": 39,
   "metadata": {},
   "outputs": [
    {
     "name": "stdout",
     "output_type": "stream",
     "text": [
      "Mean of Classical Brownian Motion is 100.003\n",
      "Standard deviation of Classical Brownian Motion is 0.095\n"
     ]
    }
   ],
   "source": [
    "# Example usage\n",
    "initial_price = 100\n",
    "volatility = 0.02\n",
    "num_periods = 50\n",
    "num_simulations = 1000\n",
    "\n",
    "prices_generated = generate_prices(initial_price, volatility, num_periods, num_simulations, method=\"Classical Brownian Motion\")\n",
    "analyze_prices(prices_generated, method=\"Classical Brownian Motion\")\n"
   ]
  },
  {
   "cell_type": "code",
   "execution_count": 40,
   "metadata": {},
   "outputs": [
    {
     "name": "stdout",
     "output_type": "stream",
     "text": [
      "Mean of Arithmetic Return System is 99.566\n",
      "Standard deviation of Arithmetic Return System is 9.325\n"
     ]
    }
   ],
   "source": [
    "# Example usage\n",
    "method = \"Arithmetic Return System\"\n",
    "initial_price = 100\n",
    "volatility = 0.02\n",
    "num_periods = 50\n",
    "num_simulations = 1000\n",
    "\n",
    "# Generate prices using the chosen method\n",
    "prices_generated = generate_prices(initial_price, volatility, num_periods, num_simulations, method)\n",
    "\n",
    "# Analyze the generated prices\n",
    "analyze_prices(prices_generated, method)\n"
   ]
  },
  {
   "cell_type": "code",
   "execution_count": 42,
   "metadata": {},
   "outputs": [
    {
     "name": "stdout",
     "output_type": "stream",
     "text": [
      "Mean of Log Return is 100.476\n",
      "Standard deviation of Log Return is 9.327\n"
     ]
    }
   ],
   "source": [
    "# Example usage\n",
    "method = \"Log Return\"\n",
    "initial_price = 100\n",
    "volatility = 0.02\n",
    "num_periods = 50\n",
    "num_simulations = 1000\n",
    "\n",
    "# Generate prices using the chosen method\n",
    "prices_generated = generate_prices(initial_price, volatility, num_periods, num_simulations, method)\n",
    "\n",
    "# Analyze the generated prices\n",
    "analyze_prices(prices_generated, method)\n"
   ]
  },
  {
   "cell_type": "markdown",
   "metadata": {},
   "source": [
    "## Theoritical Value"
   ]
  },
  {
   "cell_type": "code",
   "execution_count": 44,
   "metadata": {},
   "outputs": [
    {
     "name": "stdout",
     "output_type": "stream",
     "text": [
      "101.00501670841683 14.355986265538286\n"
     ]
    }
   ],
   "source": [
    "mean_value = math.exp(math.log(100) + 0.02 / 2)\n",
    "sd_value = math.sqrt((math.exp(0.02) - 1) * (math.exp(2 * math.log(100) + 0.02)))\n",
    "print(mean_value, sd_value)"
   ]
  },
  {
   "cell_type": "markdown",
   "metadata": {},
   "source": [
    "# Problem 1.1"
   ]
  },
  {
   "cell_type": "code",
   "execution_count": 20,
   "metadata": {},
   "outputs": [
    {
     "data": {
      "text/plain": [
       "numpy.ndarray"
      ]
     },
     "execution_count": 20,
     "metadata": {},
     "output_type": "execute_result"
    }
   ],
   "source": [
    "import numpy as np\n",
    "mu = 0  # Mean\n",
    "sigma = 0.1  # Standard deviation\n",
    "num_samples = 300 # Number of samples\n",
    "return_value = np.random.normal(mu, sigma, num_samples) # Print the generated random numbers with custom mean and standard deviation\n",
    "P_0 = 100 # Set an initial value to the start price\n",
    "type(return_value)"
   ]
  },
  {
   "cell_type": "markdown",
   "metadata": {},
   "source": [
    "## Classical Brownian Motion"
   ]
  },
  {
   "cell_type": "code",
   "execution_count": 21,
   "metadata": {},
   "outputs": [
    {
     "name": "stdout",
     "output_type": "stream",
     "text": [
      "101.44212667690367 1.049958239554261\n"
     ]
    }
   ],
   "source": [
    "price1 = []\n",
    "for i in range(len(return_value)):\n",
    "    if i == 0:\n",
    "        P_t = P_0 + return_value[i]\n",
    "        price1.append(P_t)\n",
    "    else:\n",
    "        P_t = P_t + return_value[i]\n",
    "        price1.append(P_t)\n",
    "Exception1 = np.mean(price1)\n",
    "sd1 = np.std(price1)\n",
    "print(Exception1, sd1)"
   ]
  },
  {
   "cell_type": "markdown",
   "metadata": {},
   "source": [
    "## Arithmetic Return System"
   ]
  },
  {
   "cell_type": "code",
   "execution_count": 23,
   "metadata": {},
   "outputs": [
    {
     "name": "stdout",
     "output_type": "stream",
     "text": [
      "276.2590668996224 161.05450495729193\n"
     ]
    }
   ],
   "source": [
    "price2 = []\n",
    "for i in range(len(return_value)):\n",
    "    if i == 0:\n",
    "        P_t = P_0 * (1 + return_value[i])\n",
    "        price2.append(P_t)\n",
    "    else:\n",
    "        P_t = P_t * (1 + return_value[i])\n",
    "        price2.append(P_t)\n",
    "Exception2 = np.mean(price2)\n",
    "sd2 = np.std(price2)\n",
    "print(Exception2, sd2)"
   ]
  },
  {
   "cell_type": "markdown",
   "metadata": {},
   "source": [
    "## Geometric Brownian Motion"
   ]
  },
  {
   "cell_type": "code",
   "execution_count": 24,
   "metadata": {},
   "outputs": [
    {
     "name": "stdout",
     "output_type": "stream",
     "text": [
      "635.4828731249426 432.69078150872866\n"
     ]
    }
   ],
   "source": [
    "price3 = []\n",
    "for i in range(len(return_value)):\n",
    "    if i == 0:\n",
    "        P_t = P_0 * np.exp(return_value[i])\n",
    "        price3.append(P_t)\n",
    "    else:\n",
    "        P_t = P_t * np.exp(return_value[i])\n",
    "        price3.append(P_t)\n",
    "Exception3 = np.mean(price3)\n",
    "sd3 = np.std(price3)\n",
    "print(Exception3, sd3)"
   ]
  },
  {
   "cell_type": "code",
   "execution_count": 30,
   "metadata": {},
   "outputs": [
    {
     "name": "stdout",
     "output_type": "stream",
     "text": [
      "6.0472968628918995\n",
      "6.053934532618685\n"
     ]
    }
   ],
   "source": [
    "mean_value_3 = np.mean(np.log(np.array(price3)))\n",
    "print(mean_value_3)\n",
    "mean_return = np.mean(return_value)\n",
    "print(mean_return + np.mean(np.array(np.log(price3))))"
   ]
  },
  {
   "cell_type": "code",
   "execution_count": 31,
   "metadata": {},
   "outputs": [
    {
     "name": "stdout",
     "output_type": "stream",
     "text": [
      "1.0499582395543046\n",
      "0.09412544716060432\n"
     ]
    }
   ],
   "source": [
    "sd_3 = np.std(np.log(np.array(price3)))\n",
    "print(sd_3)\n",
    "sd_return = np.std(return_value)\n",
    "print(sd_return)"
   ]
  },
  {
   "cell_type": "code",
   "execution_count": null,
   "metadata": {},
   "outputs": [],
   "source": [
    "import numpy as np\n",
    "mu = 0  # Mean\n",
    "sigma = 0.1  # Standard deviation\n",
    "num_samples = 300 # Number of samples\n",
    "return_value = np.random.normal(mu, sigma, num_samples) # Print the generated random numbers with custom mean and standard deviation\n",
    "P_0 = 100 # Set an initial value to the start price\n",
    "type(return_value)"
   ]
  },
  {
   "cell_type": "code",
   "execution_count": null,
   "metadata": {},
   "outputs": [],
   "source": [
    "def price_generator(p_t0, sigma, t, n, method = \"Classical Brownian Motion\"):\n",
    "    price_t = np.zeros(n)\n",
    "    returns = np.random.normal(0, sigma, size = t)\n",
    "    if(method.upper() == \"CLASSICAL BROWNIAN MOTION\"):\n",
    "        for i in range(1, n):\n",
    "            price_t[i] = p_t0\n",
    "            for j in range(1, t):\n",
    "                price_t[i] = price_t[i] + returns[j]\n",
    "    elif(method.upper() == \"ARITHMETIC RETURN SYSTEM\"):\n",
    "        for i in range(1, n):\n",
    "            price_t[i] = p_t0\n",
    "            for j in range(1, t):\n",
    "                price_t[i] = price_t[i] * (returns[j] + 1)\n",
    "    else:\n",
    "        for i in range(1, n):\n",
    "            price_t[i] = p_t0\n",
    "            for j in range(1, t):\n",
    "                price_t[i] = price_t[i] *  math.exp(returns[j])\n",
    "    return price_t"
   ]
  }
 ],
 "metadata": {
  "kernelspec": {
   "display_name": "Python 3",
   "language": "python",
   "name": "python3"
  },
  "language_info": {
   "codemirror_mode": {
    "name": "ipython",
    "version": 3
   },
   "file_extension": ".py",
   "mimetype": "text/x-python",
   "name": "python",
   "nbconvert_exporter": "python",
   "pygments_lexer": "ipython3",
   "version": "3.9.12"
  },
  "orig_nbformat": 4
 },
 "nbformat": 4,
 "nbformat_minor": 2
}
